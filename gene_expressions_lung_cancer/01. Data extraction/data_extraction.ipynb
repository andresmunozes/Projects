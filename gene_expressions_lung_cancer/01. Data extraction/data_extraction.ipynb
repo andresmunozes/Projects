{
 "cells": [
  {
   "cell_type": "markdown",
   "id": "609e5aa9-e820-444f-88c2-1427e467e4f5",
   "metadata": {},
   "source": [
    "# Lung Cancer Gene Expression - Data Curation\n",
    "\n",
    "**Objective:** To load, clean, and prepare the GSE81089 lung cancer dataset for machine learning analysis. This notebook covers the initial data curation phase.\n",
    "(https://www.ncbi.nlm.nih.gov/geo/query/acc.cgi?acc=GSE81089)\n",
    "\n",
    "---\n",
    "\n",
    "## Table of Contents\n",
    "1. [Setup and Data Loading](#1-setup-and-data-loading)\n",
    "2. [Initial Data Inspection and Reshaping](#2-initial-data-inspection-and-reshaping)\n",
    "3. [Data Cleaning and Quality Control](#3-data-cleaning-and-quality-control)\n",
    "4. [Feature Discrepancies and Final Datasets](#4-feature-discrepancies-and-final-datasets)\n",
    "5. [Target Variable (y) Creation](#5-target-variable-creation)\n",
    "6. [Cleaned Datasets](#6-cleaned-datasets)\n",
    "7. [Datasets intersection](#7-dataseets-intersection)\n",
    "8. [Paired Datasets](#8-paired-datasets)\n",
    "9. [Summary](#9-Summary)"
   ]
  },
  {
   "cell_type": "markdown",
   "id": "fd5c7ceb-dc79-4771-a959-7081d353e989",
   "metadata": {},
   "source": [
    "## 1. Setup and Data Loading <a id='1-setup-and-data-loading'></a>"
   ]
  },
  {
   "cell_type": "code",
   "execution_count": 3,
   "id": "9160aaa6-a87b-44e0-8997-f5fed0fe708d",
   "metadata": {},
   "outputs": [],
   "source": [
    "# Import necessary libraries for data manipulation\n",
    "import pandas as pd\n",
    "import numpy as np"
   ]
  },
  {
   "cell_type": "code",
   "execution_count": 4,
   "id": "c81b68cc-c024-4482-b31c-deeedbc67136",
   "metadata": {},
   "outputs": [],
   "source": [
    "# File paths for the raw count and FPKM datasets\n",
    "x_file_path_raw = 'GSE81089_readcounts_featurecounts.tsv.gz'\n",
    "x_file_path_fpkm = 'GSE81089_FPKM_cufflinks.tsv.gz'"
   ]
  },
  {
   "cell_type": "code",
   "execution_count": 5,
   "id": "3542686f-56db-4150-8b8d-df5554a26247",
   "metadata": {},
   "outputs": [],
   "source": [
    "# Load the raw counts data into a pandas DataFrame\n",
    "x_df_raw = pd.read_csv(x_file_path_raw, sep=\"\\t\", comment=\"!\", index_col=0)\n",
    "\n",
    "# Load the FPKM normalized data into a pandas DataFrame\n",
    "x_df_fpkm = pd.read_csv(x_file_path_fpkm, sep=\"\\t\", comment=\"!\", index_col=0)"
   ]
  },
  {
   "cell_type": "markdown",
   "id": "79c72081-81ed-4b8f-bdcd-41695ce84ee3",
   "metadata": {},
   "source": [
    "## 2. Initial Data Inspection and Reshaping <a id='2-initial-data-inspection-and-reshaping'></a>"
   ]
  },
  {
   "cell_type": "code",
   "execution_count": 7,
   "id": "4fd8725c-987d-40cd-bd60-e102de913ea4",
   "metadata": {},
   "outputs": [
    {
     "data": {
      "text/html": [
       "<div>\n",
       "<style scoped>\n",
       "    .dataframe tbody tr th:only-of-type {\n",
       "        vertical-align: middle;\n",
       "    }\n",
       "\n",
       "    .dataframe tbody tr th {\n",
       "        vertical-align: top;\n",
       "    }\n",
       "\n",
       "    .dataframe thead th {\n",
       "        text-align: right;\n",
       "    }\n",
       "</style>\n",
       "<table border=\"1\" class=\"dataframe\">\n",
       "  <thead>\n",
       "    <tr style=\"text-align: right;\">\n",
       "      <th></th>\n",
       "      <th>L400T</th>\n",
       "      <th>L401T</th>\n",
       "      <th>L404T</th>\n",
       "      <th>L406T</th>\n",
       "      <th>L413T</th>\n",
       "      <th>L414T</th>\n",
       "      <th>L417T</th>\n",
       "      <th>L420T</th>\n",
       "      <th>L439T</th>\n",
       "      <th>L440T</th>\n",
       "      <th>...</th>\n",
       "      <th>L877T</th>\n",
       "      <th>L879T</th>\n",
       "      <th>L880T</th>\n",
       "      <th>L881N</th>\n",
       "      <th>L881T</th>\n",
       "      <th>L884T</th>\n",
       "      <th>L885T</th>\n",
       "      <th>L886T</th>\n",
       "      <th>L887T</th>\n",
       "      <th>L890T</th>\n",
       "    </tr>\n",
       "    <tr>\n",
       "      <th>Ensembl_gene_id</th>\n",
       "      <th></th>\n",
       "      <th></th>\n",
       "      <th></th>\n",
       "      <th></th>\n",
       "      <th></th>\n",
       "      <th></th>\n",
       "      <th></th>\n",
       "      <th></th>\n",
       "      <th></th>\n",
       "      <th></th>\n",
       "      <th></th>\n",
       "      <th></th>\n",
       "      <th></th>\n",
       "      <th></th>\n",
       "      <th></th>\n",
       "      <th></th>\n",
       "      <th></th>\n",
       "      <th></th>\n",
       "      <th></th>\n",
       "      <th></th>\n",
       "      <th></th>\n",
       "    </tr>\n",
       "  </thead>\n",
       "  <tbody>\n",
       "    <tr>\n",
       "      <th>ENSG00000000003</th>\n",
       "      <td>6364</td>\n",
       "      <td>5953</td>\n",
       "      <td>3179</td>\n",
       "      <td>3617</td>\n",
       "      <td>5363</td>\n",
       "      <td>4336</td>\n",
       "      <td>2340</td>\n",
       "      <td>2931</td>\n",
       "      <td>4132</td>\n",
       "      <td>11516</td>\n",
       "      <td>...</td>\n",
       "      <td>4288</td>\n",
       "      <td>3391</td>\n",
       "      <td>2458</td>\n",
       "      <td>1190</td>\n",
       "      <td>4529</td>\n",
       "      <td>3783</td>\n",
       "      <td>1154</td>\n",
       "      <td>3307</td>\n",
       "      <td>3065</td>\n",
       "      <td>4180</td>\n",
       "    </tr>\n",
       "    <tr>\n",
       "      <th>ENSG00000000005</th>\n",
       "      <td>17</td>\n",
       "      <td>1</td>\n",
       "      <td>4</td>\n",
       "      <td>0</td>\n",
       "      <td>131</td>\n",
       "      <td>1</td>\n",
       "      <td>4</td>\n",
       "      <td>0</td>\n",
       "      <td>0</td>\n",
       "      <td>3</td>\n",
       "      <td>...</td>\n",
       "      <td>41</td>\n",
       "      <td>0</td>\n",
       "      <td>0</td>\n",
       "      <td>2</td>\n",
       "      <td>0</td>\n",
       "      <td>2</td>\n",
       "      <td>0</td>\n",
       "      <td>0</td>\n",
       "      <td>0</td>\n",
       "      <td>0</td>\n",
       "    </tr>\n",
       "    <tr>\n",
       "      <th>ENSG00000000419</th>\n",
       "      <td>2255</td>\n",
       "      <td>3068</td>\n",
       "      <td>2342</td>\n",
       "      <td>3264</td>\n",
       "      <td>2843</td>\n",
       "      <td>2936</td>\n",
       "      <td>3735</td>\n",
       "      <td>3264</td>\n",
       "      <td>1126</td>\n",
       "      <td>1696</td>\n",
       "      <td>...</td>\n",
       "      <td>2293</td>\n",
       "      <td>1973</td>\n",
       "      <td>2064</td>\n",
       "      <td>2484</td>\n",
       "      <td>6170</td>\n",
       "      <td>3271</td>\n",
       "      <td>1965</td>\n",
       "      <td>3141</td>\n",
       "      <td>2924</td>\n",
       "      <td>1485</td>\n",
       "    </tr>\n",
       "    <tr>\n",
       "      <th>ENSG00000000457</th>\n",
       "      <td>1941</td>\n",
       "      <td>1317</td>\n",
       "      <td>1931</td>\n",
       "      <td>1473</td>\n",
       "      <td>1285</td>\n",
       "      <td>1129</td>\n",
       "      <td>657</td>\n",
       "      <td>1029</td>\n",
       "      <td>1849</td>\n",
       "      <td>1680</td>\n",
       "      <td>...</td>\n",
       "      <td>1675</td>\n",
       "      <td>1010</td>\n",
       "      <td>1256</td>\n",
       "      <td>1024</td>\n",
       "      <td>982</td>\n",
       "      <td>1266</td>\n",
       "      <td>937</td>\n",
       "      <td>824</td>\n",
       "      <td>1344</td>\n",
       "      <td>618</td>\n",
       "    </tr>\n",
       "    <tr>\n",
       "      <th>ENSG00000000460</th>\n",
       "      <td>653</td>\n",
       "      <td>1083</td>\n",
       "      <td>1225</td>\n",
       "      <td>1101</td>\n",
       "      <td>687</td>\n",
       "      <td>1657</td>\n",
       "      <td>937</td>\n",
       "      <td>1030</td>\n",
       "      <td>670</td>\n",
       "      <td>476</td>\n",
       "      <td>...</td>\n",
       "      <td>1123</td>\n",
       "      <td>837</td>\n",
       "      <td>871</td>\n",
       "      <td>563</td>\n",
       "      <td>2017</td>\n",
       "      <td>1320</td>\n",
       "      <td>400</td>\n",
       "      <td>533</td>\n",
       "      <td>1143</td>\n",
       "      <td>610</td>\n",
       "    </tr>\n",
       "  </tbody>\n",
       "</table>\n",
       "<p>5 rows × 218 columns</p>\n",
       "</div>"
      ],
      "text/plain": [
       "                 L400T  L401T  L404T  L406T  L413T  L414T  L417T  L420T  \\\n",
       "Ensembl_gene_id                                                           \n",
       "ENSG00000000003   6364   5953   3179   3617   5363   4336   2340   2931   \n",
       "ENSG00000000005     17      1      4      0    131      1      4      0   \n",
       "ENSG00000000419   2255   3068   2342   3264   2843   2936   3735   3264   \n",
       "ENSG00000000457   1941   1317   1931   1473   1285   1129    657   1029   \n",
       "ENSG00000000460    653   1083   1225   1101    687   1657    937   1030   \n",
       "\n",
       "                 L439T  L440T  ...  L877T  L879T  L880T  L881N  L881T  L884T  \\\n",
       "Ensembl_gene_id                ...                                             \n",
       "ENSG00000000003   4132  11516  ...   4288   3391   2458   1190   4529   3783   \n",
       "ENSG00000000005      0      3  ...     41      0      0      2      0      2   \n",
       "ENSG00000000419   1126   1696  ...   2293   1973   2064   2484   6170   3271   \n",
       "ENSG00000000457   1849   1680  ...   1675   1010   1256   1024    982   1266   \n",
       "ENSG00000000460    670    476  ...   1123    837    871    563   2017   1320   \n",
       "\n",
       "                 L885T  L886T  L887T  L890T  \n",
       "Ensembl_gene_id                              \n",
       "ENSG00000000003   1154   3307   3065   4180  \n",
       "ENSG00000000005      0      0      0      0  \n",
       "ENSG00000000419   1965   3141   2924   1485  \n",
       "ENSG00000000457    937    824   1344    618  \n",
       "ENSG00000000460    400    533   1143    610  \n",
       "\n",
       "[5 rows x 218 columns]"
      ]
     },
     "execution_count": 7,
     "metadata": {},
     "output_type": "execute_result"
    }
   ],
   "source": [
    "# Display the first 5 rows of the raw data\n",
    "x_df_raw.head()"
   ]
  },
  {
   "cell_type": "code",
   "execution_count": 8,
   "id": "086ba953-de97-4611-a5f0-fb25c3604a33",
   "metadata": {},
   "outputs": [
    {
     "data": {
      "text/html": [
       "<div>\n",
       "<style scoped>\n",
       "    .dataframe tbody tr th:only-of-type {\n",
       "        vertical-align: middle;\n",
       "    }\n",
       "\n",
       "    .dataframe tbody tr th {\n",
       "        vertical-align: top;\n",
       "    }\n",
       "\n",
       "    .dataframe thead th {\n",
       "        text-align: right;\n",
       "    }\n",
       "</style>\n",
       "<table border=\"1\" class=\"dataframe\">\n",
       "  <thead>\n",
       "    <tr style=\"text-align: right;\">\n",
       "      <th></th>\n",
       "      <th>L400T</th>\n",
       "      <th>L401T</th>\n",
       "      <th>L404T</th>\n",
       "      <th>L406T</th>\n",
       "      <th>L413T</th>\n",
       "      <th>L414T</th>\n",
       "      <th>L417T</th>\n",
       "      <th>L420T</th>\n",
       "      <th>L439T</th>\n",
       "      <th>L440T</th>\n",
       "      <th>...</th>\n",
       "      <th>L877T</th>\n",
       "      <th>L879T</th>\n",
       "      <th>L880T</th>\n",
       "      <th>L881N</th>\n",
       "      <th>L881T</th>\n",
       "      <th>L884T</th>\n",
       "      <th>L885T</th>\n",
       "      <th>L886T</th>\n",
       "      <th>L887T</th>\n",
       "      <th>L890T</th>\n",
       "    </tr>\n",
       "    <tr>\n",
       "      <th>Ensembl_gene_id</th>\n",
       "      <th></th>\n",
       "      <th></th>\n",
       "      <th></th>\n",
       "      <th></th>\n",
       "      <th></th>\n",
       "      <th></th>\n",
       "      <th></th>\n",
       "      <th></th>\n",
       "      <th></th>\n",
       "      <th></th>\n",
       "      <th></th>\n",
       "      <th></th>\n",
       "      <th></th>\n",
       "      <th></th>\n",
       "      <th></th>\n",
       "      <th></th>\n",
       "      <th></th>\n",
       "      <th></th>\n",
       "      <th></th>\n",
       "      <th></th>\n",
       "      <th></th>\n",
       "    </tr>\n",
       "  </thead>\n",
       "  <tbody>\n",
       "    <tr>\n",
       "      <th>ENSG00000000003</th>\n",
       "      <td>52.195000</td>\n",
       "      <td>37.889100</td>\n",
       "      <td>23.191000</td>\n",
       "      <td>25.03240</td>\n",
       "      <td>41.96860</td>\n",
       "      <td>28.579400</td>\n",
       "      <td>19.900800</td>\n",
       "      <td>23.26320</td>\n",
       "      <td>37.02400</td>\n",
       "      <td>101.31400</td>\n",
       "      <td>...</td>\n",
       "      <td>29.719400</td>\n",
       "      <td>28.03980</td>\n",
       "      <td>21.30900</td>\n",
       "      <td>6.603010</td>\n",
       "      <td>22.72840</td>\n",
       "      <td>26.425000</td>\n",
       "      <td>10.56880</td>\n",
       "      <td>29.84500</td>\n",
       "      <td>18.05750</td>\n",
       "      <td>44.87340</td>\n",
       "    </tr>\n",
       "    <tr>\n",
       "      <th>ENSG00000000005</th>\n",
       "      <td>0.230061</td>\n",
       "      <td>0.086034</td>\n",
       "      <td>0.048022</td>\n",
       "      <td>0.00000</td>\n",
       "      <td>2.57090</td>\n",
       "      <td>0.087192</td>\n",
       "      <td>0.234047</td>\n",
       "      <td>0.00000</td>\n",
       "      <td>0.00000</td>\n",
       "      <td>0.00000</td>\n",
       "      <td>...</td>\n",
       "      <td>0.404797</td>\n",
       "      <td>0.00000</td>\n",
       "      <td>0.00000</td>\n",
       "      <td>0.149436</td>\n",
       "      <td>0.00000</td>\n",
       "      <td>0.024609</td>\n",
       "      <td>0.00000</td>\n",
       "      <td>0.00000</td>\n",
       "      <td>0.00000</td>\n",
       "      <td>0.00000</td>\n",
       "    </tr>\n",
       "    <tr>\n",
       "      <th>ENSG00000000419</th>\n",
       "      <td>43.861600</td>\n",
       "      <td>47.045700</td>\n",
       "      <td>38.129200</td>\n",
       "      <td>54.30300</td>\n",
       "      <td>51.29690</td>\n",
       "      <td>42.160400</td>\n",
       "      <td>78.196100</td>\n",
       "      <td>60.72830</td>\n",
       "      <td>23.52960</td>\n",
       "      <td>34.25800</td>\n",
       "      <td>...</td>\n",
       "      <td>35.623900</td>\n",
       "      <td>39.29990</td>\n",
       "      <td>43.93240</td>\n",
       "      <td>32.476700</td>\n",
       "      <td>76.68320</td>\n",
       "      <td>53.666600</td>\n",
       "      <td>42.42780</td>\n",
       "      <td>65.96840</td>\n",
       "      <td>39.96450</td>\n",
       "      <td>38.39590</td>\n",
       "    </tr>\n",
       "    <tr>\n",
       "      <th>ENSG00000000457</th>\n",
       "      <td>14.710100</td>\n",
       "      <td>7.812330</td>\n",
       "      <td>12.311700</td>\n",
       "      <td>8.41631</td>\n",
       "      <td>8.84999</td>\n",
       "      <td>6.280520</td>\n",
       "      <td>4.662350</td>\n",
       "      <td>7.39264</td>\n",
       "      <td>14.55440</td>\n",
       "      <td>12.83890</td>\n",
       "      <td>...</td>\n",
       "      <td>10.079700</td>\n",
       "      <td>6.79271</td>\n",
       "      <td>9.15611</td>\n",
       "      <td>4.754630</td>\n",
       "      <td>4.02081</td>\n",
       "      <td>7.114000</td>\n",
       "      <td>7.67308</td>\n",
       "      <td>6.23066</td>\n",
       "      <td>6.56760</td>\n",
       "      <td>5.31170</td>\n",
       "    </tr>\n",
       "    <tr>\n",
       "      <th>ENSG00000000460</th>\n",
       "      <td>4.813350</td>\n",
       "      <td>5.920730</td>\n",
       "      <td>8.213850</td>\n",
       "      <td>6.71221</td>\n",
       "      <td>4.79088</td>\n",
       "      <td>9.647640</td>\n",
       "      <td>6.605090</td>\n",
       "      <td>8.49746</td>\n",
       "      <td>5.45051</td>\n",
       "      <td>3.40198</td>\n",
       "      <td>...</td>\n",
       "      <td>6.944480</td>\n",
       "      <td>5.92882</td>\n",
       "      <td>6.26774</td>\n",
       "      <td>2.326310</td>\n",
       "      <td>9.37590</td>\n",
       "      <td>8.976050</td>\n",
       "      <td>2.83725</td>\n",
       "      <td>4.44909</td>\n",
       "      <td>6.03634</td>\n",
       "      <td>6.40973</td>\n",
       "    </tr>\n",
       "  </tbody>\n",
       "</table>\n",
       "<p>5 rows × 218 columns</p>\n",
       "</div>"
      ],
      "text/plain": [
       "                     L400T      L401T      L404T     L406T     L413T  \\\n",
       "Ensembl_gene_id                                                        \n",
       "ENSG00000000003  52.195000  37.889100  23.191000  25.03240  41.96860   \n",
       "ENSG00000000005   0.230061   0.086034   0.048022   0.00000   2.57090   \n",
       "ENSG00000000419  43.861600  47.045700  38.129200  54.30300  51.29690   \n",
       "ENSG00000000457  14.710100   7.812330  12.311700   8.41631   8.84999   \n",
       "ENSG00000000460   4.813350   5.920730   8.213850   6.71221   4.79088   \n",
       "\n",
       "                     L414T      L417T     L420T     L439T      L440T  ...  \\\n",
       "Ensembl_gene_id                                                       ...   \n",
       "ENSG00000000003  28.579400  19.900800  23.26320  37.02400  101.31400  ...   \n",
       "ENSG00000000005   0.087192   0.234047   0.00000   0.00000    0.00000  ...   \n",
       "ENSG00000000419  42.160400  78.196100  60.72830  23.52960   34.25800  ...   \n",
       "ENSG00000000457   6.280520   4.662350   7.39264  14.55440   12.83890  ...   \n",
       "ENSG00000000460   9.647640   6.605090   8.49746   5.45051    3.40198  ...   \n",
       "\n",
       "                     L877T     L879T     L880T      L881N     L881T  \\\n",
       "Ensembl_gene_id                                                       \n",
       "ENSG00000000003  29.719400  28.03980  21.30900   6.603010  22.72840   \n",
       "ENSG00000000005   0.404797   0.00000   0.00000   0.149436   0.00000   \n",
       "ENSG00000000419  35.623900  39.29990  43.93240  32.476700  76.68320   \n",
       "ENSG00000000457  10.079700   6.79271   9.15611   4.754630   4.02081   \n",
       "ENSG00000000460   6.944480   5.92882   6.26774   2.326310   9.37590   \n",
       "\n",
       "                     L884T     L885T     L886T     L887T     L890T  \n",
       "Ensembl_gene_id                                                     \n",
       "ENSG00000000003  26.425000  10.56880  29.84500  18.05750  44.87340  \n",
       "ENSG00000000005   0.024609   0.00000   0.00000   0.00000   0.00000  \n",
       "ENSG00000000419  53.666600  42.42780  65.96840  39.96450  38.39590  \n",
       "ENSG00000000457   7.114000   7.67308   6.23066   6.56760   5.31170  \n",
       "ENSG00000000460   8.976050   2.83725   4.44909   6.03634   6.40973  \n",
       "\n",
       "[5 rows x 218 columns]"
      ]
     },
     "execution_count": 8,
     "metadata": {},
     "output_type": "execute_result"
    }
   ],
   "source": [
    "# Display the first 5 rows of the FPKM data\n",
    "x_df_fpkm.head()"
   ]
  },
  {
   "cell_type": "code",
   "execution_count": 9,
   "id": "345af467-6b38-45aa-9032-d6e7df3329a4",
   "metadata": {},
   "outputs": [
    {
     "name": "stdout",
     "output_type": "stream",
     "text": [
      "Shape Raw data: (63152, 218) \n",
      "Shape FPKM data: (63130, 218)\n"
     ]
    }
   ],
   "source": [
    "# Check the dimensions (rows, columns) of each DataFrame.\n",
    "# Note: At this stage, rows represent genes and columns represent samples.\n",
    "# We can observe a difference in the number of genes (rows). This will be handled in a later step.\n",
    "\n",
    "print(f'Shape Raw data: {x_df_raw.shape} \\nShape FPKM data: {x_df_fpkm.shape}')\n"
   ]
  },
  {
   "cell_type": "code",
   "execution_count": 10,
   "id": "27a7714c-b3e0-4c37-8cac-5a26a2bc02bb",
   "metadata": {},
   "outputs": [
    {
     "data": {
      "text/html": [
       "<div>\n",
       "<style scoped>\n",
       "    .dataframe tbody tr th:only-of-type {\n",
       "        vertical-align: middle;\n",
       "    }\n",
       "\n",
       "    .dataframe tbody tr th {\n",
       "        vertical-align: top;\n",
       "    }\n",
       "\n",
       "    .dataframe thead th {\n",
       "        text-align: right;\n",
       "    }\n",
       "</style>\n",
       "<table border=\"1\" class=\"dataframe\">\n",
       "  <thead>\n",
       "    <tr style=\"text-align: right;\">\n",
       "      <th>Ensembl_gene_id</th>\n",
       "      <th>ENSG00000000003</th>\n",
       "      <th>ENSG00000000005</th>\n",
       "      <th>ENSG00000000419</th>\n",
       "      <th>ENSG00000000457</th>\n",
       "      <th>ENSG00000000460</th>\n",
       "      <th>ENSG00000000938</th>\n",
       "      <th>ENSG00000000971</th>\n",
       "      <th>ENSG00000001036</th>\n",
       "      <th>ENSG00000001084</th>\n",
       "      <th>ENSG00000001167</th>\n",
       "      <th>...</th>\n",
       "      <th>ENSG00000272537</th>\n",
       "      <th>ENSG00000272538</th>\n",
       "      <th>ENSG00000272539</th>\n",
       "      <th>ENSG00000272540</th>\n",
       "      <th>ENSG00000272541</th>\n",
       "      <th>ENSG00000272542</th>\n",
       "      <th>ENSG00000272543</th>\n",
       "      <th>ENSG00000272544</th>\n",
       "      <th>ENSG00000272545</th>\n",
       "      <th>TC%</th>\n",
       "    </tr>\n",
       "  </thead>\n",
       "  <tbody>\n",
       "    <tr>\n",
       "      <th>L400T</th>\n",
       "      <td>6364.0</td>\n",
       "      <td>17.0</td>\n",
       "      <td>2255.0</td>\n",
       "      <td>1941.0</td>\n",
       "      <td>653.0</td>\n",
       "      <td>918.0</td>\n",
       "      <td>22449.0</td>\n",
       "      <td>2609.0</td>\n",
       "      <td>2099.0</td>\n",
       "      <td>2416.0</td>\n",
       "      <td>...</td>\n",
       "      <td>1.0</td>\n",
       "      <td>0.0</td>\n",
       "      <td>0.0</td>\n",
       "      <td>4.0</td>\n",
       "      <td>1.0</td>\n",
       "      <td>4.0</td>\n",
       "      <td>0.0</td>\n",
       "      <td>0.0</td>\n",
       "      <td>0.0</td>\n",
       "      <td>35.0</td>\n",
       "    </tr>\n",
       "    <tr>\n",
       "      <th>L401T</th>\n",
       "      <td>5953.0</td>\n",
       "      <td>1.0</td>\n",
       "      <td>3068.0</td>\n",
       "      <td>1317.0</td>\n",
       "      <td>1083.0</td>\n",
       "      <td>1478.0</td>\n",
       "      <td>10359.0</td>\n",
       "      <td>4318.0</td>\n",
       "      <td>2221.0</td>\n",
       "      <td>4401.0</td>\n",
       "      <td>...</td>\n",
       "      <td>0.0</td>\n",
       "      <td>0.0</td>\n",
       "      <td>0.0</td>\n",
       "      <td>15.0</td>\n",
       "      <td>0.0</td>\n",
       "      <td>0.0</td>\n",
       "      <td>0.0</td>\n",
       "      <td>0.0</td>\n",
       "      <td>0.0</td>\n",
       "      <td>25.0</td>\n",
       "    </tr>\n",
       "    <tr>\n",
       "      <th>L404T</th>\n",
       "      <td>3179.0</td>\n",
       "      <td>4.0</td>\n",
       "      <td>2342.0</td>\n",
       "      <td>1931.0</td>\n",
       "      <td>1225.0</td>\n",
       "      <td>1485.0</td>\n",
       "      <td>6044.0</td>\n",
       "      <td>3406.0</td>\n",
       "      <td>4486.0</td>\n",
       "      <td>4297.0</td>\n",
       "      <td>...</td>\n",
       "      <td>1.0</td>\n",
       "      <td>0.0</td>\n",
       "      <td>0.0</td>\n",
       "      <td>11.0</td>\n",
       "      <td>2.0</td>\n",
       "      <td>2.0</td>\n",
       "      <td>0.0</td>\n",
       "      <td>0.0</td>\n",
       "      <td>0.0</td>\n",
       "      <td>30.0</td>\n",
       "    </tr>\n",
       "    <tr>\n",
       "      <th>L406T</th>\n",
       "      <td>3617.0</td>\n",
       "      <td>0.0</td>\n",
       "      <td>3264.0</td>\n",
       "      <td>1473.0</td>\n",
       "      <td>1101.0</td>\n",
       "      <td>1454.0</td>\n",
       "      <td>18843.0</td>\n",
       "      <td>2708.0</td>\n",
       "      <td>9493.0</td>\n",
       "      <td>4417.0</td>\n",
       "      <td>...</td>\n",
       "      <td>1.0</td>\n",
       "      <td>0.0</td>\n",
       "      <td>0.0</td>\n",
       "      <td>56.0</td>\n",
       "      <td>8.0</td>\n",
       "      <td>0.0</td>\n",
       "      <td>0.0</td>\n",
       "      <td>0.0</td>\n",
       "      <td>2.0</td>\n",
       "      <td>35.0</td>\n",
       "    </tr>\n",
       "    <tr>\n",
       "      <th>L413T</th>\n",
       "      <td>5363.0</td>\n",
       "      <td>131.0</td>\n",
       "      <td>2843.0</td>\n",
       "      <td>1285.0</td>\n",
       "      <td>687.0</td>\n",
       "      <td>1110.0</td>\n",
       "      <td>7972.0</td>\n",
       "      <td>3550.0</td>\n",
       "      <td>2932.0</td>\n",
       "      <td>4683.0</td>\n",
       "      <td>...</td>\n",
       "      <td>5.0</td>\n",
       "      <td>0.0</td>\n",
       "      <td>0.0</td>\n",
       "      <td>53.0</td>\n",
       "      <td>2.0</td>\n",
       "      <td>2.0</td>\n",
       "      <td>0.0</td>\n",
       "      <td>0.0</td>\n",
       "      <td>2.0</td>\n",
       "      <td>35.0</td>\n",
       "    </tr>\n",
       "  </tbody>\n",
       "</table>\n",
       "<p>5 rows × 63152 columns</p>\n",
       "</div>"
      ],
      "text/plain": [
       "Ensembl_gene_id  ENSG00000000003  ENSG00000000005  ENSG00000000419  \\\n",
       "L400T                     6364.0             17.0           2255.0   \n",
       "L401T                     5953.0              1.0           3068.0   \n",
       "L404T                     3179.0              4.0           2342.0   \n",
       "L406T                     3617.0              0.0           3264.0   \n",
       "L413T                     5363.0            131.0           2843.0   \n",
       "\n",
       "Ensembl_gene_id  ENSG00000000457  ENSG00000000460  ENSG00000000938  \\\n",
       "L400T                     1941.0            653.0            918.0   \n",
       "L401T                     1317.0           1083.0           1478.0   \n",
       "L404T                     1931.0           1225.0           1485.0   \n",
       "L406T                     1473.0           1101.0           1454.0   \n",
       "L413T                     1285.0            687.0           1110.0   \n",
       "\n",
       "Ensembl_gene_id  ENSG00000000971  ENSG00000001036  ENSG00000001084  \\\n",
       "L400T                    22449.0           2609.0           2099.0   \n",
       "L401T                    10359.0           4318.0           2221.0   \n",
       "L404T                     6044.0           3406.0           4486.0   \n",
       "L406T                    18843.0           2708.0           9493.0   \n",
       "L413T                     7972.0           3550.0           2932.0   \n",
       "\n",
       "Ensembl_gene_id  ENSG00000001167  ...  ENSG00000272537  ENSG00000272538  \\\n",
       "L400T                     2416.0  ...              1.0              0.0   \n",
       "L401T                     4401.0  ...              0.0              0.0   \n",
       "L404T                     4297.0  ...              1.0              0.0   \n",
       "L406T                     4417.0  ...              1.0              0.0   \n",
       "L413T                     4683.0  ...              5.0              0.0   \n",
       "\n",
       "Ensembl_gene_id  ENSG00000272539  ENSG00000272540  ENSG00000272541  \\\n",
       "L400T                        0.0              4.0              1.0   \n",
       "L401T                        0.0             15.0              0.0   \n",
       "L404T                        0.0             11.0              2.0   \n",
       "L406T                        0.0             56.0              8.0   \n",
       "L413T                        0.0             53.0              2.0   \n",
       "\n",
       "Ensembl_gene_id  ENSG00000272542  ENSG00000272543  ENSG00000272544  \\\n",
       "L400T                        4.0              0.0              0.0   \n",
       "L401T                        0.0              0.0              0.0   \n",
       "L404T                        2.0              0.0              0.0   \n",
       "L406T                        0.0              0.0              0.0   \n",
       "L413T                        2.0              0.0              0.0   \n",
       "\n",
       "Ensembl_gene_id  ENSG00000272545   TC%  \n",
       "L400T                        0.0  35.0  \n",
       "L401T                        0.0  25.0  \n",
       "L404T                        0.0  30.0  \n",
       "L406T                        2.0  35.0  \n",
       "L413T                        2.0  35.0  \n",
       "\n",
       "[5 rows x 63152 columns]"
      ]
     },
     "execution_count": 10,
     "metadata": {},
     "output_type": "execute_result"
    }
   ],
   "source": [
    "# Transpose the raw counts DataFrame\n",
    "x_df_raw = x_df_raw.T\n",
    "x_df_raw.head()"
   ]
  },
  {
   "cell_type": "code",
   "execution_count": 11,
   "id": "d64f299c-d264-4a39-b038-6a828467207a",
   "metadata": {},
   "outputs": [
    {
     "data": {
      "text/html": [
       "<div>\n",
       "<style scoped>\n",
       "    .dataframe tbody tr th:only-of-type {\n",
       "        vertical-align: middle;\n",
       "    }\n",
       "\n",
       "    .dataframe tbody tr th {\n",
       "        vertical-align: top;\n",
       "    }\n",
       "\n",
       "    .dataframe thead th {\n",
       "        text-align: right;\n",
       "    }\n",
       "</style>\n",
       "<table border=\"1\" class=\"dataframe\">\n",
       "  <thead>\n",
       "    <tr style=\"text-align: right;\">\n",
       "      <th>Ensembl_gene_id</th>\n",
       "      <th>ENSG00000000003</th>\n",
       "      <th>ENSG00000000005</th>\n",
       "      <th>ENSG00000000419</th>\n",
       "      <th>ENSG00000000457</th>\n",
       "      <th>ENSG00000000460</th>\n",
       "      <th>ENSG00000000938</th>\n",
       "      <th>ENSG00000000971</th>\n",
       "      <th>ENSG00000001036</th>\n",
       "      <th>ENSG00000001084</th>\n",
       "      <th>ENSG00000001167</th>\n",
       "      <th>...</th>\n",
       "      <th>ENSG00000272537</th>\n",
       "      <th>ENSG00000272538</th>\n",
       "      <th>ENSG00000272539</th>\n",
       "      <th>ENSG00000272540</th>\n",
       "      <th>ENSG00000272541</th>\n",
       "      <th>ENSG00000272542</th>\n",
       "      <th>ENSG00000272543</th>\n",
       "      <th>ENSG00000272544</th>\n",
       "      <th>ENSG00000272545</th>\n",
       "      <th>TC%</th>\n",
       "    </tr>\n",
       "  </thead>\n",
       "  <tbody>\n",
       "    <tr>\n",
       "      <th>L400T</th>\n",
       "      <td>52.1950</td>\n",
       "      <td>0.230061</td>\n",
       "      <td>43.8616</td>\n",
       "      <td>14.71010</td>\n",
       "      <td>4.81335</td>\n",
       "      <td>7.40831</td>\n",
       "      <td>112.4260</td>\n",
       "      <td>43.9196</td>\n",
       "      <td>12.12890</td>\n",
       "      <td>13.3027</td>\n",
       "      <td>...</td>\n",
       "      <td>0.0</td>\n",
       "      <td>0.0</td>\n",
       "      <td>0.0</td>\n",
       "      <td>1.38909</td>\n",
       "      <td>0.312571</td>\n",
       "      <td>0.086774</td>\n",
       "      <td>0.0</td>\n",
       "      <td>0.0</td>\n",
       "      <td>0.000000</td>\n",
       "      <td>35.0</td>\n",
       "    </tr>\n",
       "    <tr>\n",
       "      <th>L401T</th>\n",
       "      <td>37.8891</td>\n",
       "      <td>0.086034</td>\n",
       "      <td>47.0457</td>\n",
       "      <td>7.81233</td>\n",
       "      <td>5.92073</td>\n",
       "      <td>9.83188</td>\n",
       "      <td>39.7146</td>\n",
       "      <td>60.4056</td>\n",
       "      <td>9.20525</td>\n",
       "      <td>19.6343</td>\n",
       "      <td>...</td>\n",
       "      <td>0.0</td>\n",
       "      <td>0.0</td>\n",
       "      <td>0.0</td>\n",
       "      <td>1.15011</td>\n",
       "      <td>0.050841</td>\n",
       "      <td>0.000000</td>\n",
       "      <td>0.0</td>\n",
       "      <td>0.0</td>\n",
       "      <td>0.000000</td>\n",
       "      <td>25.0</td>\n",
       "    </tr>\n",
       "    <tr>\n",
       "      <th>L404T</th>\n",
       "      <td>23.1910</td>\n",
       "      <td>0.048022</td>\n",
       "      <td>38.1292</td>\n",
       "      <td>12.31170</td>\n",
       "      <td>8.21385</td>\n",
       "      <td>9.68575</td>\n",
       "      <td>25.9596</td>\n",
       "      <td>49.0519</td>\n",
       "      <td>23.92220</td>\n",
       "      <td>20.1660</td>\n",
       "      <td>...</td>\n",
       "      <td>0.0</td>\n",
       "      <td>0.0</td>\n",
       "      <td>0.0</td>\n",
       "      <td>1.11998</td>\n",
       "      <td>0.551958</td>\n",
       "      <td>0.036071</td>\n",
       "      <td>0.0</td>\n",
       "      <td>0.0</td>\n",
       "      <td>0.000000</td>\n",
       "      <td>30.0</td>\n",
       "    </tr>\n",
       "    <tr>\n",
       "      <th>L406T</th>\n",
       "      <td>25.0324</td>\n",
       "      <td>0.000000</td>\n",
       "      <td>54.3030</td>\n",
       "      <td>8.41631</td>\n",
       "      <td>6.71221</td>\n",
       "      <td>10.92630</td>\n",
       "      <td>80.2073</td>\n",
       "      <td>40.4700</td>\n",
       "      <td>46.93690</td>\n",
       "      <td>20.1807</td>\n",
       "      <td>...</td>\n",
       "      <td>0.0</td>\n",
       "      <td>0.0</td>\n",
       "      <td>0.0</td>\n",
       "      <td>4.34570</td>\n",
       "      <td>0.319958</td>\n",
       "      <td>0.000000</td>\n",
       "      <td>0.0</td>\n",
       "      <td>0.0</td>\n",
       "      <td>0.086684</td>\n",
       "      <td>35.0</td>\n",
       "    </tr>\n",
       "    <tr>\n",
       "      <th>L413T</th>\n",
       "      <td>41.9686</td>\n",
       "      <td>2.570900</td>\n",
       "      <td>51.2969</td>\n",
       "      <td>8.84999</td>\n",
       "      <td>4.79088</td>\n",
       "      <td>8.36149</td>\n",
       "      <td>38.4429</td>\n",
       "      <td>58.1048</td>\n",
       "      <td>15.60820</td>\n",
       "      <td>23.3442</td>\n",
       "      <td>...</td>\n",
       "      <td>0.0</td>\n",
       "      <td>0.0</td>\n",
       "      <td>0.0</td>\n",
       "      <td>2.61839</td>\n",
       "      <td>0.415423</td>\n",
       "      <td>0.041381</td>\n",
       "      <td>0.0</td>\n",
       "      <td>0.0</td>\n",
       "      <td>0.095240</td>\n",
       "      <td>35.0</td>\n",
       "    </tr>\n",
       "  </tbody>\n",
       "</table>\n",
       "<p>5 rows × 63130 columns</p>\n",
       "</div>"
      ],
      "text/plain": [
       "Ensembl_gene_id  ENSG00000000003  ENSG00000000005  ENSG00000000419  \\\n",
       "L400T                    52.1950         0.230061          43.8616   \n",
       "L401T                    37.8891         0.086034          47.0457   \n",
       "L404T                    23.1910         0.048022          38.1292   \n",
       "L406T                    25.0324         0.000000          54.3030   \n",
       "L413T                    41.9686         2.570900          51.2969   \n",
       "\n",
       "Ensembl_gene_id  ENSG00000000457  ENSG00000000460  ENSG00000000938  \\\n",
       "L400T                   14.71010          4.81335          7.40831   \n",
       "L401T                    7.81233          5.92073          9.83188   \n",
       "L404T                   12.31170          8.21385          9.68575   \n",
       "L406T                    8.41631          6.71221         10.92630   \n",
       "L413T                    8.84999          4.79088          8.36149   \n",
       "\n",
       "Ensembl_gene_id  ENSG00000000971  ENSG00000001036  ENSG00000001084  \\\n",
       "L400T                   112.4260          43.9196         12.12890   \n",
       "L401T                    39.7146          60.4056          9.20525   \n",
       "L404T                    25.9596          49.0519         23.92220   \n",
       "L406T                    80.2073          40.4700         46.93690   \n",
       "L413T                    38.4429          58.1048         15.60820   \n",
       "\n",
       "Ensembl_gene_id  ENSG00000001167  ...  ENSG00000272537  ENSG00000272538  \\\n",
       "L400T                    13.3027  ...              0.0              0.0   \n",
       "L401T                    19.6343  ...              0.0              0.0   \n",
       "L404T                    20.1660  ...              0.0              0.0   \n",
       "L406T                    20.1807  ...              0.0              0.0   \n",
       "L413T                    23.3442  ...              0.0              0.0   \n",
       "\n",
       "Ensembl_gene_id  ENSG00000272539  ENSG00000272540  ENSG00000272541  \\\n",
       "L400T                        0.0          1.38909         0.312571   \n",
       "L401T                        0.0          1.15011         0.050841   \n",
       "L404T                        0.0          1.11998         0.551958   \n",
       "L406T                        0.0          4.34570         0.319958   \n",
       "L413T                        0.0          2.61839         0.415423   \n",
       "\n",
       "Ensembl_gene_id  ENSG00000272542  ENSG00000272543  ENSG00000272544  \\\n",
       "L400T                   0.086774              0.0              0.0   \n",
       "L401T                   0.000000              0.0              0.0   \n",
       "L404T                   0.036071              0.0              0.0   \n",
       "L406T                   0.000000              0.0              0.0   \n",
       "L413T                   0.041381              0.0              0.0   \n",
       "\n",
       "Ensembl_gene_id  ENSG00000272545   TC%  \n",
       "L400T                   0.000000  35.0  \n",
       "L401T                   0.000000  25.0  \n",
       "L404T                   0.000000  30.0  \n",
       "L406T                   0.086684  35.0  \n",
       "L413T                   0.095240  35.0  \n",
       "\n",
       "[5 rows x 63130 columns]"
      ]
     },
     "execution_count": 11,
     "metadata": {},
     "output_type": "execute_result"
    }
   ],
   "source": [
    "# Transpose the FPKM DataFrame\n",
    "x_df_fpkm = x_df_fpkm.T\n",
    "x_df_fpkm.head()"
   ]
  },
  {
   "cell_type": "code",
   "execution_count": 12,
   "id": "4af52283-c134-4f01-9873-287e2de93d18",
   "metadata": {},
   "outputs": [
    {
     "name": "stdout",
     "output_type": "stream",
     "text": [
      "Shape Raw data: (218, 63152) \n",
      "Shape FPKM data: (218, 63130)\n"
     ]
    }
   ],
   "source": [
    "# Verify the new dimensions of the dataframes.\n",
    "# The format is now (samples, features).\n",
    "\n",
    "print(f'Shape Raw data: {x_df_raw.shape} \\nShape FPKM data: {x_df_fpkm.shape}')"
   ]
  },
  {
   "cell_type": "markdown",
   "id": "9918b008-7368-4bfd-996c-cac849a65193",
   "metadata": {},
   "source": [
    "## 3. Data Cleaning and Quality Control <a id='3-data-cleaning-and-quality-control'></a>"
   ]
  },
  {
   "cell_type": "code",
   "execution_count": 14,
   "id": "90a0ddcc-4b5a-4821-a392-fa3b40014e81",
   "metadata": {},
   "outputs": [
    {
     "name": "stdout",
     "output_type": "stream",
     "text": [
      "<class 'pandas.core.frame.DataFrame'>\n",
      "Index: 218 entries, L400T to L890T\n",
      "Columns: 63152 entries, ENSG00000000003 to TC%\n",
      "dtypes: float64(63152)\n",
      "memory usage: 105.0+ MB\n"
     ]
    }
   ],
   "source": [
    "# summary of the raw counts DataFrame.\n",
    "x_df_raw.info()"
   ]
  },
  {
   "cell_type": "code",
   "execution_count": 15,
   "id": "8850b009-eb9d-4b01-a1c7-8fa03501bd8c",
   "metadata": {},
   "outputs": [
    {
     "name": "stdout",
     "output_type": "stream",
     "text": [
      "<class 'pandas.core.frame.DataFrame'>\n",
      "Index: 218 entries, L400T to L890T\n",
      "Columns: 63130 entries, ENSG00000000003 to TC%\n",
      "dtypes: float64(63130)\n",
      "memory usage: 105.0+ MB\n"
     ]
    }
   ],
   "source": [
    "# summary of the FPKM DataFrame.\n",
    "x_df_fpkm.info()"
   ]
  },
  {
   "cell_type": "code",
   "execution_count": 16,
   "id": "89798843-80d1-4dbb-a7e9-9b5a91095d3e",
   "metadata": {},
   "outputs": [],
   "source": [
    "# descriptive statistics for raw counts DataFrame.\n",
    "# x_df_raw.describe().round(2)"
   ]
  },
  {
   "cell_type": "code",
   "execution_count": 17,
   "id": "90edaf3b-d1e6-418d-b0c5-2f8917c8fc41",
   "metadata": {
    "scrolled": true
   },
   "outputs": [],
   "source": [
    "# descriptive statistics for FPKM DataFrame.\n",
    "# x_df_fpkm.describe().round(2)"
   ]
  },
  {
   "cell_type": "markdown",
   "id": "08cba340-a0be-491a-b67d-b88ff453189c",
   "metadata": {},
   "source": [
    "### 3.1. Null Value Check"
   ]
  },
  {
   "cell_type": "code",
   "execution_count": 19,
   "id": "87779739-015d-4e53-a7e3-74db5b067984",
   "metadata": {},
   "outputs": [
    {
     "name": "stdout",
     "output_type": "stream",
     "text": [
      "Total Null: 1\n",
      "Gene Null: Index(['TC%'], dtype='object', name='Ensembl_gene_id')\n",
      "Sample Null: Index(['L771T_1'], dtype='object')\n"
     ]
    }
   ],
   "source": [
    "# Null values for the raw counts DataFrame.\n",
    "print(f'Total Null: {x_df_raw.isnull().sum().sum()}')\n",
    "# Null values by columns\n",
    "print(f'Gene Null: {x_df_raw.columns[x_df_raw.isnull().any()]}')\n",
    "# Null values by row\n",
    "print(f'Sample Null: {x_df_raw.index[x_df_raw.isnull().any(axis=1)]}')\n"
   ]
  },
  {
   "cell_type": "code",
   "execution_count": 20,
   "id": "916b9fe8-7f37-4a9b-b75f-1366e2c48709",
   "metadata": {},
   "outputs": [
    {
     "name": "stdout",
     "output_type": "stream",
     "text": [
      "Total Null: 1\n",
      "Gene Null: Index(['TC%'], dtype='object', name='Ensembl_gene_id')\n",
      "Sample Null: Index(['L771T_1'], dtype='object')\n"
     ]
    }
   ],
   "source": [
    "# Null values for the FPKM DataFrame.\n",
    "print(f'Total Null: {x_df_fpkm.isnull().sum().sum()}')\n",
    "# Null values by columns\n",
    "print(f'Gene Null: {x_df_fpkm.columns[x_df_fpkm.isnull().any()]}')\n",
    "# Null values by row\n",
    "print(f'Sample Null: {x_df_fpkm.index[x_df_fpkm.isnull().any(axis=1)]}')\n"
   ]
  },
  {
   "cell_type": "markdown",
   "id": "8c3b090f-84ab-4377-bc33-dd806f49138b",
   "metadata": {},
   "source": [
    "### 3.2. Identify and Remove Non-Gene Columns"
   ]
  },
  {
   "cell_type": "code",
   "execution_count": 22,
   "id": "d2dcca3c-822c-4fd1-86c8-452af87f8d67",
   "metadata": {},
   "outputs": [
    {
     "data": {
      "text/plain": [
       "['TC%']"
      ]
     },
     "execution_count": 22,
     "metadata": {},
     "output_type": "execute_result"
    }
   ],
   "source": [
    "# identify any columns that are not gene identifiers for the raw counts DataFrame.\n",
    "[col for col in x_df_raw.columns if not col.startswith(\"ENSG\")]"
   ]
  },
  {
   "cell_type": "code",
   "execution_count": 23,
   "id": "52fb2f1b-fda3-4347-9226-4fb5628ca3bb",
   "metadata": {},
   "outputs": [
    {
     "data": {
      "text/plain": [
       "['TC%']"
      ]
     },
     "execution_count": 23,
     "metadata": {},
     "output_type": "execute_result"
    }
   ],
   "source": [
    "# identify any columns that are not gene identifiers for the FPKM DataFrame.\n",
    "[col for col in x_df_fpkm.columns if not col.startswith(\"ENSG\")]"
   ]
  },
  {
   "cell_type": "markdown",
   "id": "b9374754-d11e-4bc5-a57f-0c97617df4f3",
   "metadata": {},
   "source": [
    "##### TC%\n",
    "The TC% column represents the Tumor Cell Percentage, a quality control metric used in the source study by Djureinovic et al. The authors only included tissue samples with greater than 10% tumor content to ensure the quality and purity of the expression signal.\n",
    "\n",
    "This column is removed from our feature matrix because it is sample metadata, not a gene expression feature. Including it would cause data leakage, allowing the model to predict the outcome directly from this value rather than learning from the underlying patterns in the gene expression profiles."
   ]
  },
  {
   "cell_type": "code",
   "execution_count": 25,
   "id": "daadb254-4b5a-4591-8e6d-660397a97954",
   "metadata": {},
   "outputs": [],
   "source": [
    "# Remove the non-gene 'TC%' column from the raw data DataFrame.\n",
    "x_df_raw = x_df_raw.drop(columns=[\"TC%\"])"
   ]
  },
  {
   "cell_type": "code",
   "execution_count": 26,
   "id": "8c4a7c26-1f0b-4a6b-8b40-d38cb613bd4e",
   "metadata": {},
   "outputs": [],
   "source": [
    "# Remove the non-gene 'TC%' column from the FPKM data DataFrame.\n",
    "x_df_fpkm = x_df_fpkm.drop(columns=[\"TC%\"])"
   ]
  },
  {
   "cell_type": "code",
   "execution_count": 27,
   "id": "54975dd4-6b0b-4a75-8d78-649eb0e1c6d6",
   "metadata": {},
   "outputs": [
    {
     "name": "stdout",
     "output_type": "stream",
     "text": [
      "Shape Raw data: (218, 63151) \n",
      "Shape FPKM data: (218, 63129)\n"
     ]
    }
   ],
   "source": [
    "# Verify the new shapes after dropping the non-gene column.\n",
    "print(f'Shape Raw data: {x_df_raw.shape} \\nShape FPKM data: {x_df_fpkm.shape}')"
   ]
  },
  {
   "cell_type": "markdown",
   "id": "21dd7eb2-b9f5-4793-9fb7-795a13c6bbcf",
   "metadata": {},
   "source": [
    "### 3.3. Check for Duplicates\n",
    "Three critical checks for data integrity on both datasets:\n",
    "1.  **Duplicate Rows:** Samples with an identical expression profile across all genes.\n",
    "2.  **Duplicate Index:** Samples that share the same ID.\n",
    "3.  **Duplicate Columns:** Features (genes) that share the same ID."
   ]
  },
  {
   "cell_type": "code",
   "execution_count": 29,
   "id": "919c2706-b262-4d3b-91ba-847a7f1d3c43",
   "metadata": {},
   "outputs": [
    {
     "name": "stdout",
     "output_type": "stream",
     "text": [
      "Empty DataFrame\n",
      "Columns: [ENSG00000000003, ENSG00000000005, ENSG00000000419, ENSG00000000457, ENSG00000000460, ENSG00000000938, ENSG00000000971, ENSG00000001036, ENSG00000001084, ENSG00000001167, ENSG00000001460, ENSG00000001461, ENSG00000001497, ENSG00000001561, ENSG00000001617, ENSG00000001626, ENSG00000001629, ENSG00000001630, ENSG00000001631, ENSG00000002016, ENSG00000002079, ENSG00000002330, ENSG00000002549, ENSG00000002586, ENSG00000002587, ENSG00000002726, ENSG00000002745, ENSG00000002746, ENSG00000002822, ENSG00000002834, ENSG00000002919, ENSG00000002933, ENSG00000003056, ENSG00000003096, ENSG00000003137, ENSG00000003147, ENSG00000003249, ENSG00000003393, ENSG00000003400, ENSG00000003402, ENSG00000003436, ENSG00000003509, ENSG00000003756, ENSG00000003987, ENSG00000003989, ENSG00000004059, ENSG00000004139, ENSG00000004142, ENSG00000004399, ENSG00000004455, ENSG00000004468, ENSG00000004478, ENSG00000004487, ENSG00000004534, ENSG00000004660, ENSG00000004700, ENSG00000004766, ENSG00000004776, ENSG00000004777, ENSG00000004779, ENSG00000004799, ENSG00000004809, ENSG00000004838, ENSG00000004846, ENSG00000004848, ENSG00000004864, ENSG00000004866, ENSG00000004897, ENSG00000004939, ENSG00000004948, ENSG00000004961, ENSG00000004975, ENSG00000005001, ENSG00000005007, ENSG00000005020, ENSG00000005022, ENSG00000005059, ENSG00000005073, ENSG00000005075, ENSG00000005100, ENSG00000005102, ENSG00000005108, ENSG00000005156, ENSG00000005175, ENSG00000005187, ENSG00000005189, ENSG00000005194, ENSG00000005206, ENSG00000005238, ENSG00000005243, ENSG00000005249, ENSG00000005302, ENSG00000005339, ENSG00000005379, ENSG00000005381, ENSG00000005421, ENSG00000005436, ENSG00000005448, ENSG00000005469, ENSG00000005471, ...]\n",
      "Index: []\n",
      "\n",
      "[0 rows x 63151 columns]\n"
     ]
    }
   ],
   "source": [
    "# Raw data DataFrame Duplicate\n",
    "\n",
    "## Check for fully duplicate rows (samples with identical values across all genes). from the raw data DataFrame.\n",
    "print(x_df_raw[x_df_raw.duplicated])"
   ]
  },
  {
   "cell_type": "code",
   "execution_count": 30,
   "id": "7af8a66a-ebd0-42d5-bbbc-89f5a537afbb",
   "metadata": {},
   "outputs": [
    {
     "name": "stdout",
     "output_type": "stream",
     "text": [
      "Empty DataFrame\n",
      "Columns: [ENSG00000000003, ENSG00000000005, ENSG00000000419, ENSG00000000457, ENSG00000000460, ENSG00000000938, ENSG00000000971, ENSG00000001036, ENSG00000001084, ENSG00000001167, ENSG00000001460, ENSG00000001461, ENSG00000001497, ENSG00000001561, ENSG00000001617, ENSG00000001626, ENSG00000001629, ENSG00000001630, ENSG00000001631, ENSG00000002016, ENSG00000002079, ENSG00000002330, ENSG00000002549, ENSG00000002586, ENSG00000002587, ENSG00000002726, ENSG00000002745, ENSG00000002746, ENSG00000002822, ENSG00000002834, ENSG00000002919, ENSG00000002933, ENSG00000003056, ENSG00000003096, ENSG00000003137, ENSG00000003147, ENSG00000003249, ENSG00000003393, ENSG00000003400, ENSG00000003402, ENSG00000003436, ENSG00000003509, ENSG00000003756, ENSG00000003987, ENSG00000003989, ENSG00000004059, ENSG00000004139, ENSG00000004142, ENSG00000004399, ENSG00000004455, ENSG00000004468, ENSG00000004478, ENSG00000004487, ENSG00000004534, ENSG00000004660, ENSG00000004700, ENSG00000004766, ENSG00000004776, ENSG00000004777, ENSG00000004779, ENSG00000004799, ENSG00000004809, ENSG00000004838, ENSG00000004846, ENSG00000004848, ENSG00000004864, ENSG00000004866, ENSG00000004897, ENSG00000004939, ENSG00000004948, ENSG00000004961, ENSG00000004975, ENSG00000005001, ENSG00000005007, ENSG00000005020, ENSG00000005022, ENSG00000005059, ENSG00000005073, ENSG00000005075, ENSG00000005100, ENSG00000005102, ENSG00000005108, ENSG00000005156, ENSG00000005175, ENSG00000005187, ENSG00000005189, ENSG00000005194, ENSG00000005206, ENSG00000005238, ENSG00000005243, ENSG00000005249, ENSG00000005302, ENSG00000005339, ENSG00000005379, ENSG00000005381, ENSG00000005421, ENSG00000005436, ENSG00000005448, ENSG00000005469, ENSG00000005471, ...]\n",
      "Index: []\n",
      "\n",
      "[0 rows x 63151 columns]\n"
     ]
    }
   ],
   "source": [
    "# Check for duplicate index labels (sample). from the raw data DataFrame.\n",
    "print(x_df_raw[x_df_raw.index.duplicated(keep=False)])"
   ]
  },
  {
   "cell_type": "code",
   "execution_count": 31,
   "id": "7d3e1b62-ca8f-48c0-b907-dfa91457e90a",
   "metadata": {},
   "outputs": [
    {
     "name": "stdout",
     "output_type": "stream",
     "text": [
      "Empty DataFrame\n",
      "Columns: []\n",
      "Index: [L400T, L401T, L404T, L406T, L413T, L414T, L417T, L420T, L439T, L440T, L441T, L442T, L444T, L446T, L447T, L452T, L455T, L456T, L457T, L458T, L459T, L462T, L464T, L466T, L468T, L470T, L471T, L472T, L473T, L480T, L481T, L483T, L484T, L488T, L490T, L493T, L496T, L504T, L511N, L511T, L529T, L530T, L531T, L532N, L532T, L534T, L535T, L538T, L539T, L541T, L543T, L545T, L546T, L551T, L557T, L559T, L561N, L561T, L563N, L563T, L565T, L566N, L566T, L567T, L568T, L569T, L572N, L572T, L582T, L583T, L584T, L585T, L586T, L592T, L593T, L596T, L598T, L599T, L601T, L602T, L603T, L604T, L605T, L606N, L606T, L607T, L608T_2122, L612T, L613T, L616N, L616T, L617T, L619T, L620T, L621T, L626T, L628T, L630T, L633T, L635T, ...]\n",
      "\n",
      "[218 rows x 0 columns]\n"
     ]
    }
   ],
   "source": [
    "# Check for duplicate column names (features/genes).from the raw data DataFrame.\n",
    "print(x_df_raw.loc[:, x_df_raw.columns.duplicated(keep=False)])"
   ]
  },
  {
   "cell_type": "code",
   "execution_count": 32,
   "id": "8cbc104a-c5aa-4dd9-a887-774d6f60d195",
   "metadata": {},
   "outputs": [
    {
     "name": "stdout",
     "output_type": "stream",
     "text": [
      "Empty DataFrame\n",
      "Columns: [ENSG00000000003, ENSG00000000005, ENSG00000000419, ENSG00000000457, ENSG00000000460, ENSG00000000938, ENSG00000000971, ENSG00000001036, ENSG00000001084, ENSG00000001167, ENSG00000001460, ENSG00000001461, ENSG00000001497, ENSG00000001561, ENSG00000001617, ENSG00000001626, ENSG00000001629, ENSG00000001630, ENSG00000001631, ENSG00000002016, ENSG00000002079, ENSG00000002330, ENSG00000002549, ENSG00000002586, ENSG00000002587, ENSG00000002726, ENSG00000002745, ENSG00000002746, ENSG00000002822, ENSG00000002834, ENSG00000002919, ENSG00000002933, ENSG00000003056, ENSG00000003096, ENSG00000003137, ENSG00000003147, ENSG00000003249, ENSG00000003393, ENSG00000003400, ENSG00000003402, ENSG00000003436, ENSG00000003509, ENSG00000003756, ENSG00000003987, ENSG00000003989, ENSG00000004059, ENSG00000004139, ENSG00000004142, ENSG00000004399, ENSG00000004455, ENSG00000004468, ENSG00000004478, ENSG00000004487, ENSG00000004534, ENSG00000004660, ENSG00000004700, ENSG00000004766, ENSG00000004776, ENSG00000004777, ENSG00000004779, ENSG00000004799, ENSG00000004809, ENSG00000004838, ENSG00000004846, ENSG00000004848, ENSG00000004864, ENSG00000004866, ENSG00000004897, ENSG00000004939, ENSG00000004948, ENSG00000004961, ENSG00000004975, ENSG00000005001, ENSG00000005007, ENSG00000005020, ENSG00000005022, ENSG00000005059, ENSG00000005073, ENSG00000005075, ENSG00000005100, ENSG00000005102, ENSG00000005108, ENSG00000005156, ENSG00000005175, ENSG00000005187, ENSG00000005189, ENSG00000005194, ENSG00000005206, ENSG00000005238, ENSG00000005243, ENSG00000005249, ENSG00000005302, ENSG00000005339, ENSG00000005379, ENSG00000005381, ENSG00000005421, ENSG00000005436, ENSG00000005448, ENSG00000005469, ENSG00000005471, ...]\n",
      "Index: []\n",
      "\n",
      "[0 rows x 63129 columns]\n"
     ]
    }
   ],
   "source": [
    "# FPKM data DataFrame Duplicate\n",
    "\n",
    "# Check for fully duplicate rows (samples with identical values across all genes). from the FPKM data DataFrame.\n",
    "print(x_df_fpkm[x_df_fpkm.duplicated])"
   ]
  },
  {
   "cell_type": "code",
   "execution_count": 33,
   "id": "ddab7414-cd4d-4402-b6f1-d7459b16cd02",
   "metadata": {},
   "outputs": [
    {
     "name": "stdout",
     "output_type": "stream",
     "text": [
      "Empty DataFrame\n",
      "Columns: [ENSG00000000003, ENSG00000000005, ENSG00000000419, ENSG00000000457, ENSG00000000460, ENSG00000000938, ENSG00000000971, ENSG00000001036, ENSG00000001084, ENSG00000001167, ENSG00000001460, ENSG00000001461, ENSG00000001497, ENSG00000001561, ENSG00000001617, ENSG00000001626, ENSG00000001629, ENSG00000001630, ENSG00000001631, ENSG00000002016, ENSG00000002079, ENSG00000002330, ENSG00000002549, ENSG00000002586, ENSG00000002587, ENSG00000002726, ENSG00000002745, ENSG00000002746, ENSG00000002822, ENSG00000002834, ENSG00000002919, ENSG00000002933, ENSG00000003056, ENSG00000003096, ENSG00000003137, ENSG00000003147, ENSG00000003249, ENSG00000003393, ENSG00000003400, ENSG00000003402, ENSG00000003436, ENSG00000003509, ENSG00000003756, ENSG00000003987, ENSG00000003989, ENSG00000004059, ENSG00000004139, ENSG00000004142, ENSG00000004399, ENSG00000004455, ENSG00000004468, ENSG00000004478, ENSG00000004487, ENSG00000004534, ENSG00000004660, ENSG00000004700, ENSG00000004766, ENSG00000004776, ENSG00000004777, ENSG00000004779, ENSG00000004799, ENSG00000004809, ENSG00000004838, ENSG00000004846, ENSG00000004848, ENSG00000004864, ENSG00000004866, ENSG00000004897, ENSG00000004939, ENSG00000004948, ENSG00000004961, ENSG00000004975, ENSG00000005001, ENSG00000005007, ENSG00000005020, ENSG00000005022, ENSG00000005059, ENSG00000005073, ENSG00000005075, ENSG00000005100, ENSG00000005102, ENSG00000005108, ENSG00000005156, ENSG00000005175, ENSG00000005187, ENSG00000005189, ENSG00000005194, ENSG00000005206, ENSG00000005238, ENSG00000005243, ENSG00000005249, ENSG00000005302, ENSG00000005339, ENSG00000005379, ENSG00000005381, ENSG00000005421, ENSG00000005436, ENSG00000005448, ENSG00000005469, ENSG00000005471, ...]\n",
      "Index: []\n",
      "\n",
      "[0 rows x 63129 columns]\n"
     ]
    }
   ],
   "source": [
    "# Check for duplicate index labels (sample). from the FPKM data DataFrame.\n",
    "print(x_df_fpkm[x_df_fpkm.index.duplicated(keep=False)])"
   ]
  },
  {
   "cell_type": "code",
   "execution_count": 34,
   "id": "9210f38f-a205-4a85-8ee1-46cec8b2a4be",
   "metadata": {},
   "outputs": [
    {
     "name": "stdout",
     "output_type": "stream",
     "text": [
      "Empty DataFrame\n",
      "Columns: []\n",
      "Index: [L400T, L401T, L404T, L406T, L413T, L414T, L417T, L420T, L439T, L440T, L441T, L442T, L444T, L446T, L447T, L452T, L455T, L456T, L457T, L458T, L459T, L462T, L464T, L466T, L468T, L470T, L471T, L472T, L473T, L480T, L481T, L483T, L484T, L488T, L490T, L493T, L496T, L504T, L511N, L511T, L529T, L530T, L531T, L532N, L532T, L534T, L535T, L538T, L539T, L541T, L543T, L545T, L546T, L551T, L557T, L559T, L561N, L561T, L563N, L563T, L565T, L566N, L566T, L567T, L568T, L569T, L572N, L572T, L582T, L583T, L584T, L585T, L586T, L592T, L593T, L596T, L598T, L599T, L601T, L602T, L603T, L604T, L605T, L606N, L606T, L607T, L608T_2122, L612T, L613T, L616N, L616T, L617T, L619T, L620T, L621T, L626T, L628T, L630T, L633T, L635T, ...]\n",
      "\n",
      "[218 rows x 0 columns]\n"
     ]
    }
   ],
   "source": [
    "# Check for duplicate column names (features/genes). from the FPKM data DataFrame.\n",
    "print(x_df_fpkm.loc[:, x_df_fpkm.columns.duplicated(keep=False)])"
   ]
  },
  {
   "cell_type": "markdown",
   "id": "8b2d6fdd-fb95-46ed-988e-afc24646a30d",
   "metadata": {},
   "source": [
    "## 4. Feature Discrepancies and Final Datasets <a id='4-feature-discrepancies-and-final-datasets'></a>"
   ]
  },
  {
   "cell_type": "markdown",
   "id": "84598487-1e93-4a8f-99ac-007aebf840b9",
   "metadata": {},
   "source": [
    "### 4.1. Analyze Feature Discrepancies\n",
    "We've observed that the two dataframes have a different number of genes. Here we identify exactly which genes are unique to each set. This is likely due to the different bioinformatics tools used to generate each file."
   ]
  },
  {
   "cell_type": "code",
   "execution_count": 37,
   "id": "c0b41696-2ba8-4d54-a12a-233d1d2d0f87",
   "metadata": {},
   "outputs": [
    {
     "name": "stdout",
     "output_type": "stream",
     "text": [
      "Shape Raw data: (218, 63151) \n",
      "Shape FPKM data: (218, 63129)\n"
     ]
    }
   ],
   "source": [
    "# Verify the shapes\n",
    "print(f'Shape Raw data: {x_df_raw.shape} \\nShape FPKM data: {x_df_fpkm.shape}')"
   ]
  },
  {
   "cell_type": "code",
   "execution_count": 38,
   "id": "52131759-1f5b-4db4-adcc-3ce0333d0b92",
   "metadata": {},
   "outputs": [
    {
     "name": "stdout",
     "output_type": "stream",
     "text": [
      "Number of genes missing from the FPKM dataset: 23\n",
      "IDs of some of the missing genes:\n",
      "['ENSG00000256825', 'ENSG00000261459', 'ENSG00000272162', 'ENSG00000258830', 'ENSG00000259753', 'ENSG00000183900', 'ENSG00000250424', 'ENSG00000258724', 'ENSG00000226894', 'ENSG00000267531']\n",
      "\n",
      "Statistics for the missing genes in the raw dataset:\n",
      "Ensembl_gene_id  ENSG00000256825  ENSG00000261459  ENSG00000272162  \\\n",
      "count                      218.0            218.0            218.0   \n",
      "mean                         0.0              0.0              0.0   \n",
      "std                          0.0              0.0              0.0   \n",
      "min                          0.0              0.0              0.0   \n",
      "25%                          0.0              0.0              0.0   \n",
      "50%                          0.0              0.0              0.0   \n",
      "75%                          0.0              0.0              0.0   \n",
      "max                          0.0              0.0              0.0   \n",
      "\n",
      "Ensembl_gene_id  ENSG00000258830  ENSG00000259753  ENSG00000183900  \\\n",
      "count                      218.0            218.0            218.0   \n",
      "mean                         0.0              0.0              0.0   \n",
      "std                          0.0              0.0              0.0   \n",
      "min                          0.0              0.0              0.0   \n",
      "25%                          0.0              0.0              0.0   \n",
      "50%                          0.0              0.0              0.0   \n",
      "75%                          0.0              0.0              0.0   \n",
      "max                          0.0              0.0              0.0   \n",
      "\n",
      "Ensembl_gene_id  ENSG00000250424  ENSG00000258724  ENSG00000226894  \\\n",
      "count                      218.0            218.0            218.0   \n",
      "mean                         0.0              0.0              0.0   \n",
      "std                          0.0              0.0              0.0   \n",
      "min                          0.0              0.0              0.0   \n",
      "25%                          0.0              0.0              0.0   \n",
      "50%                          0.0              0.0              0.0   \n",
      "75%                          0.0              0.0              0.0   \n",
      "max                          0.0              0.0              0.0   \n",
      "\n",
      "Ensembl_gene_id  ENSG00000267531  ...  ENSG00000183653  ENSG00000232317  \\\n",
      "count                      218.0  ...            218.0            218.0   \n",
      "mean                         0.0  ...              0.0              0.0   \n",
      "std                          0.0  ...              0.0              0.0   \n",
      "min                          0.0  ...              0.0              0.0   \n",
      "25%                          0.0  ...              0.0              0.0   \n",
      "50%                          0.0  ...              0.0              0.0   \n",
      "75%                          0.0  ...              0.0              0.0   \n",
      "max                          0.0  ...              0.0              0.0   \n",
      "\n",
      "Ensembl_gene_id  ENSG00000199071  ENSG00000196737  ENSG00000269920  \\\n",
      "count                      218.0            218.0            218.0   \n",
      "mean                         0.0              0.0              0.0   \n",
      "std                          0.0              0.0              0.0   \n",
      "min                          0.0              0.0              0.0   \n",
      "25%                          0.0              0.0              0.0   \n",
      "50%                          0.0              0.0              0.0   \n",
      "75%                          0.0              0.0              0.0   \n",
      "max                          0.0              0.0              0.0   \n",
      "\n",
      "Ensembl_gene_id  ENSG00000122728  ENSG00000268467  ENSG00000257379  \\\n",
      "count                      218.0            218.0            218.0   \n",
      "mean                         0.0              0.0              0.0   \n",
      "std                          0.0              0.0              0.0   \n",
      "min                          0.0              0.0              0.0   \n",
      "25%                          0.0              0.0              0.0   \n",
      "50%                          0.0              0.0              0.0   \n",
      "75%                          0.0              0.0              0.0   \n",
      "max                          0.0              0.0              0.0   \n",
      "\n",
      "Ensembl_gene_id  ENSG00000269808  ENSG00000269389  \n",
      "count                      218.0            218.0  \n",
      "mean                         0.0              0.0  \n",
      "std                          0.0              0.0  \n",
      "min                          0.0              0.0  \n",
      "25%                          0.0              0.0  \n",
      "50%                          0.0              0.0  \n",
      "75%                          0.0              0.0  \n",
      "max                          0.0              0.0  \n",
      "\n",
      "[8 rows x 23 columns]\n"
     ]
    }
   ],
   "source": [
    "\n",
    "# Get the set of gene IDs (columns) from each DataFrame to compare them\n",
    "genes_raw = set(x_df_raw.columns)\n",
    "genes_fpkm = set(x_df_fpkm.columns)\n",
    "\n",
    "# Find genes that are in the raw dataset but not in the FPKM dataset\n",
    "missing_genes = genes_raw.difference(genes_fpkm)\n",
    "\n",
    "print(f\"Number of genes missing from the FPKM dataset: {len(missing_genes)}\")\n",
    "print(\"IDs of some of the missing genes:\")\n",
    "print(list(missing_genes)[:10]) # FIrst 10\n",
    "\n",
    "# If any missing genes were found, analyze their values in the raw dataset\n",
    "if missing_genes:\n",
    "    missing_genes_counts = x_df_raw[list(missing_genes)]\n",
    "\n",
    "    # Display descriptive statistics for these genes.\n",
    "    print(\"\\nStatistics for the missing genes in the raw dataset:\")\n",
    "    print(missing_genes_counts.describe())\n",
    "    "
   ]
  },
  {
   "cell_type": "code",
   "execution_count": 39,
   "id": "90c6f37c-5e5b-43ae-bb8c-90e79a2af6e0",
   "metadata": {},
   "outputs": [
    {
     "name": "stdout",
     "output_type": "stream",
     "text": [
      "Shape Raw data: (218, 63128) \n",
      "Shape FPKM data: (218, 63129)\n"
     ]
    }
   ],
   "source": [
    "# Align the raw DataFrame by dropping the columns that are not present in the FPKM DataFrame (all zero values)\n",
    "x_df_raw = x_df_raw.drop(columns=list(missing_genes))\n",
    "# Verify the new shapes. Note that the FPKM dataframe now has one extra column.\n",
    "print(f'Shape Raw data: {x_df_raw.shape} \\nShape FPKM data: {x_df_fpkm.shape}')"
   ]
  },
  {
   "cell_type": "code",
   "execution_count": 40,
   "id": "0766be9c-967b-4240-be8b-1f470c9b165c",
   "metadata": {},
   "outputs": [
    {
     "name": "stdout",
     "output_type": "stream",
     "text": [
      "Number of genes found in FPKM but not in raw data: 1\n",
      "IDs of some of the missing genes:\n",
      "['ENSG00000223972']\n",
      "\n",
      "Statistics for the missing genes in the raw dataset\n",
      "Ensembl_gene_id  ENSG00000223972\n",
      "count                 218.000000\n",
      "mean                    0.085066\n",
      "std                     0.144929\n",
      "min                     0.000000\n",
      "25%                     0.028140\n",
      "50%                     0.053657\n",
      "75%                     0.092494\n",
      "max                     1.426270\n"
     ]
    }
   ],
   "source": [
    "# Find genes that are in the FPKM dataset but not in the raw dataset\n",
    "missing_genes = genes_fpkm.difference(genes_raw)\n",
    "\n",
    "print(f\"Number of genes found in FPKM but not in raw data: {len(missing_genes)}\")\n",
    "print(\"IDs of some of the missing genes:\")\n",
    "print(list(missing_genes)[:10]) # First 10\n",
    "\n",
    "# If any missing genes were found, analyze their values in the FPKM dataset\n",
    "if missing_genes:\n",
    "    missing_genes_counts = x_df_fpkm[list(missing_genes)]\n",
    "\n",
    "    # Display descriptive statistics for these genes.\n",
    "    print(\"\\nStatistics for the missing genes in the raw dataset\")\n",
    "    print(missing_genes_counts.describe())\n",
    "\n",
    "\n",
    "# A discrepancy was found between the two data files: one gene appears in the FPKM dataset but not in the raw counts data.\n",
    "# This is a common occurrence, likely due to the different software tools or gene \"maps\" used to process each file.\n",
    "# This difference will be noted and resolved in the data alignment step before modeling."
   ]
  },
  {
   "cell_type": "markdown",
   "id": "06538514-ab53-4525-9f78-e10f2476b40a",
   "metadata": {},
   "source": [
    "### 4.2. Identify and Remove Constant Features\n",
    "We remove non-informative features. Any gene that has the same value across all samples (zero variance) provides no information for a model and should be dropped. We will do this for each dataframe independently"
   ]
  },
  {
   "cell_type": "code",
   "execution_count": 42,
   "id": "556b3034-d0d4-4980-b4f3-5ceb9f63fb58",
   "metadata": {},
   "outputs": [
    {
     "name": "stdout",
     "output_type": "stream",
     "text": [
      "For the 11920 columns with constant values (Raw):\n",
      "The overall minimum value is: 0.0\n",
      "The overall maximum value is: 0.0\n"
     ]
    }
   ],
   "source": [
    "#  Select only the columns from the raw DataFrame that have a constant value.\n",
    "constant_columns = x_df_raw.columns[x_df_raw.nunique() == 1]\n",
    "df_constant_genes = x_df_raw[constant_columns]\n",
    "\n",
    "# Calculate the overall minimum and maximum across this entire subset.\n",
    "overall_min = df_constant_genes.min().min()\n",
    "overall_max = df_constant_genes.max().max()\n",
    "\n",
    "print(f\"For the {len(constant_columns)} columns with constant values (Raw):\")\n",
    "print(f\"The overall minimum value is: {overall_min}\")\n",
    "print(f\"The overall maximum value is: {overall_max}\")"
   ]
  },
  {
   "cell_type": "code",
   "execution_count": 43,
   "id": "1332e563-f112-4fed-bcb8-d66fecbe241b",
   "metadata": {},
   "outputs": [
    {
     "name": "stdout",
     "output_type": "stream",
     "text": [
      "For the 17969 columns with constant values (FPKM):\n",
      "The overall minimum value is: 0.0\n",
      "The overall maximum value is: 0.0\n"
     ]
    }
   ],
   "source": [
    "#  Select only the columns from the FPKM DataFrame that have a constant value.\n",
    "constant_columns_fpkm = x_df_fpkm.columns[x_df_fpkm.nunique() == 1]\n",
    "df_constant_genes_fpkm = x_df_fpkm[constant_columns_fpkm]\n",
    "\n",
    "# Calculate the overall minimum and maximum across this entire subset.\n",
    "overall_min_fpkm = df_constant_genes_fpkm.min().min()\n",
    "overall_max_fpkm = df_constant_genes_fpkm.max().max()\n",
    "\n",
    "print(f\"For the {len(constant_columns_fpkm)} columns with constant values (FPKM):\")\n",
    "print(f\"The overall minimum value is: {overall_min_fpkm}\")\n",
    "print(f\"The overall maximum value is: {overall_max_fpkm}\")"
   ]
  },
  {
   "cell_type": "code",
   "execution_count": 44,
   "id": "fc508c4f-179a-4449-89ef-62419209f351",
   "metadata": {},
   "outputs": [
    {
     "name": "stdout",
     "output_type": "stream",
     "text": [
      "Shape Raw Data Cleaned: (218, 51208) \n",
      "Shape FPKM Data Cleaned: (218, 45160)\n"
     ]
    }
   ],
   "source": [
    "# Create a new DataFrame for the raw data, excluding its constant columns (all have zero values)\n",
    "x_df_raw_cleaned = x_df_raw.drop(columns=constant_columns)\n",
    "# Create a new DataFrame for the FPKM data, excluding its respective constant columns (all have zero values)\n",
    "x_df_fpkm_cleaned = x_df_fpkm.drop(columns=constant_columns_fpkm)\n",
    "# Print the new shapes to confirm the removal of non-informative features from each dataset.\n",
    "print(f'Shape Raw Data Cleaned: {x_df_raw_cleaned.shape} \\nShape FPKM Data Cleaned: {x_df_fpkm_cleaned.shape}')\n",
    "\n",
    "\n",
    "# The FPKM dataset has more constant columns because the normalization process can convert low-variance genes into constant ones."
   ]
  },
  {
   "cell_type": "markdown",
   "id": "1979937c-4f98-48d4-8494-c5672e75bc6a",
   "metadata": {},
   "source": [
    "## 5. Target Variable (y) Creation <a id='5-target-variable-creation'></a>\n",
    "\n",
    "We will now create the binary target variable (`y`) by classifying samples based on their ID ('T' for Tumor, 'N' for Normal). The result is stored in a pandas Series to maintain index alignment with the feature data."
   ]
  },
  {
   "cell_type": "markdown",
   "id": "90c81718-6855-4ef3-8b42-a7eaac130bc1",
   "metadata": {},
   "source": [
    "### 5.1. Create the Target Variable (y)"
   ]
  },
  {
   "cell_type": "code",
   "execution_count": 47,
   "id": "11fd2d74-e8fd-4b9a-bb97-f7c96a878784",
   "metadata": {},
   "outputs": [
    {
     "name": "stdout",
     "output_type": "stream",
     "text": [
      "L400T    1\n",
      "L401T    1\n",
      "L404T    1\n",
      "L406T    1\n",
      "L413T    1\n",
      "Name: cancer_status, dtype: int64\n",
      "cancer_status\n",
      "1    199\n",
      "0     19\n",
      "Name: count, dtype: int64\n"
     ]
    }
   ],
   "source": [
    "sample_identifiers = x_df_raw.index.tolist()\n",
    "\n",
    "# Create an empty list to hold the class labels (0 or 1)\n",
    "y_response_list = []\n",
    "\n",
    "# Iterate through each sample ID to classify it\n",
    "for sample_id in sample_identifiers:\n",
    "    text_to_check = \"\"\n",
    "    if isinstance(sample_id, str):\n",
    "        text_to_check = sample_id.upper()\n",
    "\n",
    "    # Classify based on the presence of 'N' or 'T'.\n",
    "    if 'N' in text_to_check:\n",
    "        y_response_list.append(0)  # No tumor\n",
    "    elif 'T' in text_to_check:\n",
    "        y_response_list.append(1)  # Tumor\n",
    "    else:\n",
    "        # Handle any sample ID that doesn't fit the pattern\n",
    "        y_response_list.append(np.nan) # Use NaN (Not a Number) for missing values\n",
    "\n",
    "# Convert the list of labels into a pandas Series.\n",
    "# We pass the sample IDs as the index to ensure alignment with the feature data (X).\n",
    "y_df = pd.Series(y_response_list, index=sample_identifiers, name=\"cancer_status\")\n",
    "\n",
    "\n",
    "# Verification\n",
    "\n",
    "# # Display the first 5 entries of the new target Series\n",
    "print(y_df.head())\n",
    "\n",
    "# Counts to get the distribution of the classes\n",
    "print(y_df.value_counts())\n"
   ]
  },
  {
   "cell_type": "markdown",
   "id": "07601f66-8b93-45d2-a89d-4614e3c40721",
   "metadata": {},
   "source": [
    "### 5.2. Verify sample IDs Alignment\n",
    "\n",
    "We verify that the sample IDs (index) are consistent across the cleaned dataframes and the newly created target variable `y_df`. This confirms that the data objects are correctly aligned by sample."
   ]
  },
  {
   "cell_type": "code",
   "execution_count": 49,
   "id": "8d068d54-95dc-4d4f-bc80-714576545980",
   "metadata": {},
   "outputs": [
    {
     "name": "stdout",
     "output_type": "stream",
     "text": [
      "Are the Raw data and the Y variable aligned?  -> True\n",
      "Are the FPKM data and the Y variable aligned? -> True\n",
      "Are the Raw and FPKM data aligned with each other? -> True\n"
     ]
    }
   ],
   "source": [
    "# Check if the index of the cleaned raw DataFrame matches the index of the target Series 'y'.\n",
    "raw_y_aligned = x_df_raw_cleaned.index.equals(y_df.index)\n",
    "print(f\"Are the Raw data and the Y variable aligned?  -> {raw_y_aligned}\")\n",
    "\n",
    "# Check if the index of the cleaned FPKM DataFrame matches the index of the target Series 'y'.\n",
    "fpkm_y_aligned = x_df_fpkm_cleaned.index.equals(y_df.index)\n",
    "print(f\"Are the FPKM data and the Y variable aligned? -> {fpkm_y_aligned}\")\n",
    "\n",
    "# Check if the samples in the two feature DataFrames are aligned with each other.\n",
    "raw_fpkm_aligned = x_df_raw_cleaned.index.equals(x_df_fpkm_cleaned.index)\n",
    "print(f\"Are the Raw and FPKM data aligned with each other? -> {raw_fpkm_aligned}\")\n"
   ]
  },
  {
   "cell_type": "code",
   "execution_count": 50,
   "id": "aafebd6e-14a4-46df-9479-6a5611e086db",
   "metadata": {},
   "outputs": [
    {
     "name": "stdout",
     "output_type": "stream",
     "text": [
      "Raw Data Index:  ['L400T', 'L401T', 'L404T', 'L406T', 'L413T']\n",
      "FPKM Data Index:  ['L400T', 'L401T', 'L404T', 'L406T', 'L413T']\n",
      "Y Target Index:             ['L400T', 'L401T', 'L404T', 'L406T', 'L413T']\n"
     ]
    }
   ],
   "source": [
    "# Print the first 5 identifiers from each object for a visual confirmation.\n",
    "print(\"Raw Data Index: \", x_df_raw_cleaned.index[:5].tolist())\n",
    "print(\"FPKM Data Index: \", x_df_fpkm_cleaned.index[:5].tolist())\n",
    "print(\"Y Target Index:            \", y_df.index[:5].tolist())\n"
   ]
  },
  {
   "cell_type": "markdown",
   "id": "d7982bdc-8d91-451e-a91d-eacf7ac22712",
   "metadata": {},
   "source": [
    "## 6. Cleaned Datasets <a id='6-final-cleaned-datasets'></a>\n",
    "After completing the curation process, we have the following clean, aligned, and ready-to-use data objects for the prediction_model.\n",
    "\n",
    "* **`x_df_raw_cleaned`**: DataFrame with raw counts. Features are cleaned and aligned.\n",
    "* **`x_df_fpkm_cleaned`**: DataFrame with FPKM values. Features are cleaned and aligned.\n",
    "* **`y_df`**: Pandas Series containing the binary target labels (0 for Normal, 1 for Tumor).\n",
    "\n",
    "---\n",
    "Note on Feature Discrepancy\n",
    "A slight mismatch exists between the raw and FPKM feature sets, which is a common result of using different bioinformatics tools for data processing.\n",
    "The final strategy for aligning the data for modeling will be decided in the prediction_model file. The options include:\n",
    "- Using the intersection of genes.\n",
    "- Developing independent pipelines for each dataset.\n",
    "- Proceeding with only one of the datasets.\n"
   ]
  },
  {
   "cell_type": "markdown",
   "id": "97885f9f-0eff-41ff-ad05-9af474606e5f",
   "metadata": {},
   "source": [
    "## 7. Datasets intersection <a id='7-dataseets-intersection'></a>\n",
    "In case we decide to work with the intersection of genes, this code creates the final datasets."
   ]
  },
  {
   "cell_type": "code",
   "execution_count": 53,
   "id": "34e7df3b-9725-4033-946b-ad68308c6b5a",
   "metadata": {},
   "outputs": [
    {
     "name": "stdout",
     "output_type": "stream",
     "text": [
      "Number of common, non-constant genes to be used for modeling: 43239\n",
      "\n",
      "--- Final, Aligned, and Cleaned Shapes ---\n",
      "Shape of final raw data: (218, 43239)\n",
      "Shape of final FPKM data: (218, 43239)\n"
     ]
    }
   ],
   "source": [
    "# --- Align Cleaned DataFrames via Intersection ---\n",
    "\n",
    "# Find the intersection of columns between the two cleaned dataframes.\n",
    "common_features = x_df_raw_cleaned.columns.intersection(x_df_fpkm_cleaned.columns)\n",
    "print(f\"Number of common, non-constant genes to be used for modeling: {len(common_features)}\")\n",
    "\n",
    "# Filter both dataframes to contain only these common features.\n",
    "x_final_raw = x_df_raw_cleaned[common_features]\n",
    "x_final_fpkm = x_df_fpkm_cleaned[common_features]\n",
    "\n",
    "# Verify that the final shapes are identical.\n",
    "print(\"\\n--- Final, Aligned, and Cleaned Shapes ---\")\n",
    "print(f\"Shape of final raw data: {x_final_raw.shape}\")\n",
    "print(f\"Shape of final FPKM data: {x_final_fpkm.shape}\")"
   ]
  },
  {
   "cell_type": "markdown",
   "id": "c89f9650-0035-4919-9f55-8afec12c2afd",
   "metadata": {},
   "source": [
    "## 8. Paired Datasets <a id='8-paired-datasets'></a>\n",
    "Isolating the Paired-Sample Cohort\n",
    "The dataset contains 19 tumor samples that are paired with 19 matched normal tissue samples from the same patients. A paired analysis can be a powerful method to control for inter-individual variability.\n",
    "\n",
    "For this reason, we will create dedicated dataframes for this paired subset. The decision to use this specific cohort for a separate analysis will be made in the prediction_model."
   ]
  },
  {
   "cell_type": "code",
   "execution_count": 55,
   "id": "f138f69b-119a-47c0-a032-3d5b203a7cc4",
   "metadata": {},
   "outputs": [
    {
     "name": "stdout",
     "output_type": "stream",
     "text": [
      "Total paired IDs found: 38\n",
      "\n",
      "--- Shapes of Paired DataFrames (from 'cleaned') ---\n",
      "Shape raw cleaned paired: (38, 51208)\n",
      "Shape fpkm cleaned paired: (38, 45160)\n"
     ]
    }
   ],
   "source": [
    "# --- Creating a Paired Subset from the \"Cleaned\" DataFrames ---\n",
    "\n",
    "# 1. Identify the 19 normal sample IDs\n",
    "# We use the index from one of the dataframes, as the samples are aligned.\n",
    "all_sample_ids_cleaned = x_df_raw_cleaned.index\n",
    "normal_samples_cleaned = [sid for sid in all_sample_ids_cleaned if isinstance(sid, str) and sid.endswith('N')]\n",
    "\n",
    "# 2. Find their tumor counterparts by replacing 'N' with 'T'.\n",
    "paired_tumor_samples_cleaned = [sid.replace('N', 'T') for sid in normal_samples_cleaned]\n",
    "\n",
    "# 3. Combine the lists to get all 38 paired IDs.\n",
    "all_paired_ids_cleaned = normal_samples_cleaned + paired_tumor_samples_cleaned\n",
    "\n",
    "print(f\"Total paired IDs found: {len(all_paired_ids_cleaned)}\")\n",
    "\n",
    "# 4. Filter the \"_cleaned\" dataframes to create the paired subset.\n",
    "# We use .loc[] to select rows by their index label.\n",
    "x_raw_cleaned_paired = x_df_raw_cleaned.loc[all_paired_ids_cleaned]\n",
    "x_fpkm_cleaned_paired = x_df_fpkm_cleaned.loc[all_paired_ids_cleaned]\n",
    "\n",
    "# 5. Verification\n",
    "print(\"\\n--- Shapes of Paired DataFrames (from 'cleaned') ---\")\n",
    "print(f\"Shape raw cleaned paired: {x_raw_cleaned_paired.shape}\")\n",
    "print(f\"Shape fpkm cleaned paired: {x_fpkm_cleaned_paired.shape}\")"
   ]
  },
  {
   "cell_type": "code",
   "execution_count": 56,
   "id": "47cc9aeb-e189-4e34-a840-fe3829462225",
   "metadata": {},
   "outputs": [
    {
     "name": "stdout",
     "output_type": "stream",
     "text": [
      "\n",
      "--- Shapes of Paired DataFrames (from 'final' data) ---\n",
      "Shape of final raw paired data: (38, 43239)\n",
      "Shape of final FPKM paired data: (38, 43239)\n"
     ]
    }
   ],
   "source": [
    "# --- Creating a Paired Subset from the \"Final\" (Aligned) DataFrames ---\n",
    "\n",
    "# 1. Identify the paired IDs (the list of IDs is the same as before).\n",
    "all_sample_ids_final = x_final_raw.index\n",
    "normal_samples_final = [sid for sid in all_sample_ids_final if isinstance(sid, str) and sid.endswith('N')]\n",
    "paired_tumor_samples_final = [sid.replace('N', 'T') for sid in normal_samples_final]\n",
    "all_paired_ids_final = normal_samples_final + paired_tumor_samples_final\n",
    "\n",
    "# 2. Filter the \"final\" dataframes to create the paired subset.\n",
    "x_raw_final_paired = x_final_raw.loc[all_paired_ids_final]\n",
    "x_fpkm_final_paired = x_final_fpkm.loc[all_paired_ids_final]\n",
    "\n",
    "# 3. Verification\n",
    "print(\"\\n--- Shapes of Paired DataFrames (from 'final' data) ---\")\n",
    "print(f\"Shape of final raw paired data: {x_raw_final_paired.shape}\")\n",
    "print(f\"Shape of final FPKM paired data: {x_fpkm_final_paired.shape}\")"
   ]
  },
  {
   "cell_type": "code",
   "execution_count": 57,
   "id": "e8a3486d-7288-43be-84b7-177806ef338a",
   "metadata": {},
   "outputs": [
    {
     "name": "stdout",
     "output_type": "stream",
     "text": [
      "Class distribution in the paired subset:\n",
      "cancer_status\n",
      "0    19\n",
      "1    19\n",
      "Name: count, dtype: int64\n"
     ]
    }
   ],
   "source": [
    "# Create the corresponding target variable for the paired subset\n",
    "y_df_paired = y_df.loc[all_paired_ids_final]\n",
    "\n",
    "# Print the class distribution for the paired subset to verify it has 19 of each class.\n",
    "print(f\"Class distribution in the paired subset:\\n{y_df_paired.value_counts()}\")"
   ]
  },
  {
   "cell_type": "code",
   "execution_count": 58,
   "id": "69cd857b-40e2-4f6a-a3f7-fcbf1d660be2",
   "metadata": {},
   "outputs": [
    {
     "name": "stdout",
     "output_type": "stream",
     "text": [
      "--- Verifying Alignment of All Paired Datasets ---\n",
      "Success! All specified paired data objects are perfectly aligned by sample.\n"
     ]
    }
   ],
   "source": [
    "# --- Verification of Index Alignment Across All Paired Datasets ---\n",
    "\n",
    "# First, create a list of all the data objects you want to check.\n",
    "# Make sure you have created all these variables in the previous steps.\n",
    "datasets_to_check = {\n",
    "    \"x_raw_cleaned_paired\": x_raw_cleaned_paired,\n",
    "    \"x_fpkm_cleaned_paired\": x_fpkm_cleaned_paired,\n",
    "    \"x_raw_final_paired\": x_raw_final_paired,\n",
    "    \"x_fpkm_final_paired\": x_fpkm_final_paired,\n",
    "    \"y_df_paired\": y_df_paired \n",
    "}\n",
    "\n",
    "# Use the index of the first dataframe as the reference for comparison.\n",
    "reference_index = datasets_to_check[\"x_raw_cleaned_paired\"].index\n",
    "all_aligned = True\n",
    "\n",
    "print(\"--- Verifying Alignment of All Paired Datasets ---\")\n",
    "\n",
    "# Loop through each dataset and compare its index to the reference index.\n",
    "for name, df in datasets_to_check.items():\n",
    "    if not df.index.equals(reference_index):\n",
    "        print(f\"MISMATCH FOUND: The index of '{name}' does not match the reference.\")\n",
    "        all_aligned = False\n",
    "        break # Stop checking if a mismatch is found\n",
    "\n",
    "# Print the final result.\n",
    "if all_aligned:\n",
    "    print(\"Success! All specified paired data objects are perfectly aligned by sample.\")\n",
    "else:\n",
    "    print(\"\\nAttention! A misalignment was detected. Please review the steps where these dataframes were created.\")"
   ]
  },
  {
   "cell_type": "markdown",
   "id": "5209f7a6-5ab4-4581-a16c-c0e8887a8af9",
   "metadata": {},
   "source": [
    "## 9. Summary <a id='9-Summary'></a>\n",
    "After completing the data curation process, we have generated several data objects:\n",
    "\n",
    "Full Datasets (218 Samples):\n",
    "* **`x_df_raw_cleaned`**: DataFrame with raw counts, after removing only its own constant features.\n",
    "* **`x_df_fpkm_cleaned`**: DataFrame with FPKM values, after removing only its own constant features.\n",
    "* **`x_final_raw`**: Contains raw counts for the common, non-constant genes found in both datasets (intersection after cleaning).\n",
    "* **`x_final_fpkm`**: Contains FPKM values for the common, non-constant genes found in both datasets ((intersection after cleaning).\n",
    "* **`y_df`**:  Pandas Series containing the binary target labels (0 for Normal, 1 for Tumor) for all 218 samples.\n",
    "    \n",
    "Paired Subsets (38 Samples):\n",
    "* **`x_raw_cleaned_paired`**: Paired subset (19 vs. 19) taken from the intermediate x_df_raw_cleaned dataframe.\n",
    "* **`x_fpkm_cleaned_paired`**: Paired subset (19 vs. 19) taken from the intermediate x_df_fpkm_cleaned dataframe.\n",
    "* **`x_raw_final_paired`**: Contains data for the 38 paired samples, using the final Raw aligned feature set.\n",
    "* **`x_fpkm_final_paired`**: Contains data for the 38 paired samples, using the final fpkm aligned feature set.\n",
    "* **`y_df_paired`**: The corresponding target labels for the 38 paired samples, aligned with the paired dataframes.\n",
    "\n",
    "The specific datasets (e.g., full vs. paired, raw vs. FPKM) to be used for modeling will be selected in the prediction_model based on the analysis goals.\n",
    "  \n"
   ]
  },
  {
   "cell_type": "code",
   "execution_count": 102,
   "id": "0501baa9-3cb0-47bd-aa48-97603e93236a",
   "metadata": {},
   "outputs": [],
   "source": [
    "# Save Dataframes ('output_csv' folder)\n",
    "\n",
    "# import os\n",
    "# os.makedirs(\"output_csvs\", exist_ok=True)\n",
    "\n",
    "# x_df_raw_cleaned.to_csv(\"output_csvs/x_df_raw_cleaned.csv\")\n",
    "# x_df_fpkm_cleaned.to_csv(\"output_csvs/x_df_fpkm_cleaned.csv\")\n",
    "\n",
    "# x_final_raw.to_csv(\"output_csvs/x_final_raw.csv\")\n",
    "# x_final_fpkm.to_csv(\"output_csvs/x_final_fpkm.csv\")\n",
    "\n",
    "# x_raw_final_paired.to_csv(\"output_csvs/x_raw_final_paired.csv\")\n",
    "# x_fpkm_final_paired.to_csv(\"output_csvs/x_fpkm_final_paired.csv\")\n",
    "\n",
    "# y_df.to_csv(\"output_csvs/y_df.csv\")\n",
    "# y_df_paired.to_csv(\"output_csvs/y_df_paired.csv\")"
   ]
  }
 ],
 "metadata": {
  "kernelspec": {
   "display_name": "Python [conda env:base] *",
   "language": "python",
   "name": "conda-base-py"
  },
  "language_info": {
   "codemirror_mode": {
    "name": "ipython",
    "version": 3
   },
   "file_extension": ".py",
   "mimetype": "text/x-python",
   "name": "python",
   "nbconvert_exporter": "python",
   "pygments_lexer": "ipython3",
   "version": "3.12.7"
  }
 },
 "nbformat": 4,
 "nbformat_minor": 5
}
